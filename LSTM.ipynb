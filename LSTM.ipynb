{
 "cells": [
  {
   "cell_type": "markdown",
   "metadata": {},
   "source": [
    "# Import and Load Datasets"
   ]
  },
  {
   "cell_type": "code",
   "execution_count": 1,
   "metadata": {},
   "outputs": [
    {
     "name": "stderr",
     "output_type": "stream",
     "text": [
      "[nltk_data] Downloading collection 'all'\n",
      "[nltk_data]    | \n",
      "[nltk_data]    | Downloading package abc to /home/kai-yi/nltk_data...\n",
      "[nltk_data]    |   Package abc is already up-to-date!\n",
      "[nltk_data]    | Downloading package alpino to /home/kai-\n",
      "[nltk_data]    |     yi/nltk_data...\n",
      "[nltk_data]    |   Package alpino is already up-to-date!\n",
      "[nltk_data]    | Downloading package averaged_perceptron_tagger to\n",
      "[nltk_data]    |     /home/kai-yi/nltk_data...\n",
      "[nltk_data]    |   Package averaged_perceptron_tagger is already up-\n",
      "[nltk_data]    |       to-date!\n",
      "[nltk_data]    | Downloading package averaged_perceptron_tagger_eng to\n",
      "[nltk_data]    |     /home/kai-yi/nltk_data...\n",
      "[nltk_data]    |   Package averaged_perceptron_tagger_eng is already\n",
      "[nltk_data]    |       up-to-date!\n",
      "[nltk_data]    | Downloading package averaged_perceptron_tagger_ru to\n",
      "[nltk_data]    |     /home/kai-yi/nltk_data...\n",
      "[nltk_data]    |   Package averaged_perceptron_tagger_ru is already\n",
      "[nltk_data]    |       up-to-date!\n",
      "[nltk_data]    | Downloading package averaged_perceptron_tagger_rus to\n",
      "[nltk_data]    |     /home/kai-yi/nltk_data...\n",
      "[nltk_data]    |   Package averaged_perceptron_tagger_rus is already\n",
      "[nltk_data]    |       up-to-date!\n",
      "[nltk_data]    | Downloading package basque_grammars to /home/kai-\n",
      "[nltk_data]    |     yi/nltk_data...\n",
      "[nltk_data]    |   Package basque_grammars is already up-to-date!\n",
      "[nltk_data]    | Downloading package bcp47 to /home/kai-\n",
      "[nltk_data]    |     yi/nltk_data...\n",
      "[nltk_data]    |   Package bcp47 is already up-to-date!\n",
      "[nltk_data]    | Downloading package biocreative_ppi to /home/kai-\n",
      "[nltk_data]    |     yi/nltk_data...\n",
      "[nltk_data]    |   Package biocreative_ppi is already up-to-date!\n",
      "[nltk_data]    | Downloading package bllip_wsj_no_aux to /home/kai-\n",
      "[nltk_data]    |     yi/nltk_data...\n",
      "[nltk_data]    |   Package bllip_wsj_no_aux is already up-to-date!\n",
      "[nltk_data]    | Downloading package book_grammars to /home/kai-\n",
      "[nltk_data]    |     yi/nltk_data...\n",
      "[nltk_data]    |   Package book_grammars is already up-to-date!\n",
      "[nltk_data]    | Downloading package brown to /home/kai-\n",
      "[nltk_data]    |     yi/nltk_data...\n",
      "[nltk_data]    |   Package brown is already up-to-date!\n",
      "[nltk_data]    | Downloading package brown_tei to /home/kai-\n",
      "[nltk_data]    |     yi/nltk_data...\n",
      "[nltk_data]    |   Package brown_tei is already up-to-date!\n",
      "[nltk_data]    | Downloading package cess_cat to /home/kai-\n",
      "[nltk_data]    |     yi/nltk_data...\n",
      "[nltk_data]    |   Package cess_cat is already up-to-date!\n",
      "[nltk_data]    | Downloading package cess_esp to /home/kai-\n",
      "[nltk_data]    |     yi/nltk_data...\n",
      "[nltk_data]    |   Package cess_esp is already up-to-date!\n",
      "[nltk_data]    | Downloading package chat80 to /home/kai-\n",
      "[nltk_data]    |     yi/nltk_data...\n",
      "[nltk_data]    |   Package chat80 is already up-to-date!\n",
      "[nltk_data]    | Downloading package city_database to /home/kai-\n",
      "[nltk_data]    |     yi/nltk_data...\n",
      "[nltk_data]    |   Package city_database is already up-to-date!\n",
      "[nltk_data]    | Downloading package cmudict to /home/kai-\n",
      "[nltk_data]    |     yi/nltk_data...\n",
      "[nltk_data]    |   Package cmudict is already up-to-date!\n",
      "[nltk_data]    | Downloading package comparative_sentences to\n",
      "[nltk_data]    |     /home/kai-yi/nltk_data...\n",
      "[nltk_data]    |   Package comparative_sentences is already up-to-\n",
      "[nltk_data]    |       date!\n",
      "[nltk_data]    | Downloading package comtrans to /home/kai-\n",
      "[nltk_data]    |     yi/nltk_data...\n",
      "[nltk_data]    |   Package comtrans is already up-to-date!\n",
      "[nltk_data]    | Downloading package conll2000 to /home/kai-\n",
      "[nltk_data]    |     yi/nltk_data...\n",
      "[nltk_data]    |   Package conll2000 is already up-to-date!\n",
      "[nltk_data]    | Downloading package conll2002 to /home/kai-\n",
      "[nltk_data]    |     yi/nltk_data...\n",
      "[nltk_data]    |   Package conll2002 is already up-to-date!\n",
      "[nltk_data]    | Downloading package conll2007 to /home/kai-\n",
      "[nltk_data]    |     yi/nltk_data...\n",
      "[nltk_data]    |   Package conll2007 is already up-to-date!\n",
      "[nltk_data]    | Downloading package crubadan to /home/kai-\n",
      "[nltk_data]    |     yi/nltk_data...\n",
      "[nltk_data]    |   Package crubadan is already up-to-date!\n",
      "[nltk_data]    | Downloading package dependency_treebank to /home/kai-\n",
      "[nltk_data]    |     yi/nltk_data...\n",
      "[nltk_data]    |   Package dependency_treebank is already up-to-date!\n",
      "[nltk_data]    | Downloading package dolch to /home/kai-\n",
      "[nltk_data]    |     yi/nltk_data...\n",
      "[nltk_data]    |   Package dolch is already up-to-date!\n",
      "[nltk_data]    | Downloading package english_wordnet to /home/kai-\n",
      "[nltk_data]    |     yi/nltk_data...\n",
      "[nltk_data]    |   Package english_wordnet is already up-to-date!\n",
      "[nltk_data]    | Downloading package europarl_raw to /home/kai-\n",
      "[nltk_data]    |     yi/nltk_data...\n",
      "[nltk_data]    |   Package europarl_raw is already up-to-date!\n",
      "[nltk_data]    | Downloading package extended_omw to /home/kai-\n",
      "[nltk_data]    |     yi/nltk_data...\n",
      "[nltk_data]    |   Package extended_omw is already up-to-date!\n",
      "[nltk_data]    | Downloading package floresta to /home/kai-\n",
      "[nltk_data]    |     yi/nltk_data...\n",
      "[nltk_data]    |   Package floresta is already up-to-date!\n",
      "[nltk_data]    | Downloading package framenet_v15 to /home/kai-\n",
      "[nltk_data]    |     yi/nltk_data...\n",
      "[nltk_data]    |   Package framenet_v15 is already up-to-date!\n",
      "[nltk_data]    | Downloading package framenet_v17 to /home/kai-\n",
      "[nltk_data]    |     yi/nltk_data...\n",
      "[nltk_data]    |   Package framenet_v17 is already up-to-date!\n",
      "[nltk_data]    | Downloading package gazetteers to /home/kai-\n",
      "[nltk_data]    |     yi/nltk_data...\n",
      "[nltk_data]    |   Package gazetteers is already up-to-date!\n",
      "[nltk_data]    | Downloading package genesis to /home/kai-\n",
      "[nltk_data]    |     yi/nltk_data...\n",
      "[nltk_data]    |   Package genesis is already up-to-date!\n",
      "[nltk_data]    | Downloading package gutenberg to /home/kai-\n",
      "[nltk_data]    |     yi/nltk_data...\n",
      "[nltk_data]    |   Package gutenberg is already up-to-date!\n",
      "[nltk_data]    | Downloading package ieer to /home/kai-yi/nltk_data...\n",
      "[nltk_data]    |   Package ieer is already up-to-date!\n",
      "[nltk_data]    | Downloading package inaugural to /home/kai-\n",
      "[nltk_data]    |     yi/nltk_data...\n",
      "[nltk_data]    |   Package inaugural is already up-to-date!\n",
      "[nltk_data]    | Downloading package indian to /home/kai-\n",
      "[nltk_data]    |     yi/nltk_data...\n",
      "[nltk_data]    |   Package indian is already up-to-date!\n",
      "[nltk_data]    | Downloading package jeita to /home/kai-\n",
      "[nltk_data]    |     yi/nltk_data...\n",
      "[nltk_data]    |   Package jeita is already up-to-date!\n",
      "[nltk_data]    | Downloading package kimmo to /home/kai-\n",
      "[nltk_data]    |     yi/nltk_data...\n",
      "[nltk_data]    |   Package kimmo is already up-to-date!\n",
      "[nltk_data]    | Downloading package knbc to /home/kai-yi/nltk_data...\n",
      "[nltk_data]    |   Package knbc is already up-to-date!\n",
      "[nltk_data]    | Downloading package large_grammars to /home/kai-\n",
      "[nltk_data]    |     yi/nltk_data...\n",
      "[nltk_data]    |   Package large_grammars is already up-to-date!\n",
      "[nltk_data]    | Downloading package lin_thesaurus to /home/kai-\n",
      "[nltk_data]    |     yi/nltk_data...\n",
      "[nltk_data]    |   Package lin_thesaurus is already up-to-date!\n",
      "[nltk_data]    | Downloading package mac_morpho to /home/kai-\n",
      "[nltk_data]    |     yi/nltk_data...\n",
      "[nltk_data]    |   Package mac_morpho is already up-to-date!\n",
      "[nltk_data]    | Downloading package machado to /home/kai-\n",
      "[nltk_data]    |     yi/nltk_data...\n",
      "[nltk_data]    |   Package machado is already up-to-date!\n",
      "[nltk_data]    | Downloading package masc_tagged to /home/kai-\n",
      "[nltk_data]    |     yi/nltk_data...\n",
      "[nltk_data]    |   Package masc_tagged is already up-to-date!\n",
      "[nltk_data]    | Downloading package maxent_ne_chunker to /home/kai-\n",
      "[nltk_data]    |     yi/nltk_data...\n",
      "[nltk_data]    |   Package maxent_ne_chunker is already up-to-date!\n",
      "[nltk_data]    | Downloading package maxent_ne_chunker_tab to\n",
      "[nltk_data]    |     /home/kai-yi/nltk_data...\n",
      "[nltk_data]    |   Package maxent_ne_chunker_tab is already up-to-\n",
      "[nltk_data]    |       date!\n",
      "[nltk_data]    | Downloading package maxent_treebank_pos_tagger to\n",
      "[nltk_data]    |     /home/kai-yi/nltk_data...\n",
      "[nltk_data]    |   Package maxent_treebank_pos_tagger is already up-\n",
      "[nltk_data]    |       to-date!\n",
      "[nltk_data]    | Downloading package maxent_treebank_pos_tagger_tab to\n",
      "[nltk_data]    |     /home/kai-yi/nltk_data...\n",
      "[nltk_data]    |   Package maxent_treebank_pos_tagger_tab is already\n",
      "[nltk_data]    |       up-to-date!\n",
      "[nltk_data]    | Downloading package moses_sample to /home/kai-\n",
      "[nltk_data]    |     yi/nltk_data...\n",
      "[nltk_data]    |   Package moses_sample is already up-to-date!\n",
      "[nltk_data]    | Downloading package movie_reviews to /home/kai-\n",
      "[nltk_data]    |     yi/nltk_data...\n",
      "[nltk_data]    |   Package movie_reviews is already up-to-date!\n",
      "[nltk_data]    | Downloading package mte_teip5 to /home/kai-\n",
      "[nltk_data]    |     yi/nltk_data...\n",
      "[nltk_data]    |   Package mte_teip5 is already up-to-date!\n",
      "[nltk_data]    | Downloading package mwa_ppdb to /home/kai-\n",
      "[nltk_data]    |     yi/nltk_data...\n",
      "[nltk_data]    |   Package mwa_ppdb is already up-to-date!\n",
      "[nltk_data]    | Downloading package names to /home/kai-\n",
      "[nltk_data]    |     yi/nltk_data...\n",
      "[nltk_data]    |   Package names is already up-to-date!\n",
      "[nltk_data]    | Downloading package nombank.1.0 to /home/kai-\n",
      "[nltk_data]    |     yi/nltk_data...\n",
      "[nltk_data]    |   Package nombank.1.0 is already up-to-date!\n",
      "[nltk_data]    | Downloading package nonbreaking_prefixes to\n",
      "[nltk_data]    |     /home/kai-yi/nltk_data...\n",
      "[nltk_data]    |   Package nonbreaking_prefixes is already up-to-date!\n",
      "[nltk_data]    | Downloading package nps_chat to /home/kai-\n",
      "[nltk_data]    |     yi/nltk_data...\n",
      "[nltk_data]    |   Package nps_chat is already up-to-date!\n",
      "[nltk_data]    | Downloading package omw to /home/kai-yi/nltk_data...\n",
      "[nltk_data]    |   Package omw is already up-to-date!\n",
      "[nltk_data]    | Downloading package omw-1.4 to /home/kai-\n",
      "[nltk_data]    |     yi/nltk_data...\n",
      "[nltk_data]    |   Package omw-1.4 is already up-to-date!\n",
      "[nltk_data]    | Downloading package opinion_lexicon to /home/kai-\n",
      "[nltk_data]    |     yi/nltk_data...\n",
      "[nltk_data]    |   Package opinion_lexicon is already up-to-date!\n",
      "[nltk_data]    | Downloading package panlex_swadesh to /home/kai-\n",
      "[nltk_data]    |     yi/nltk_data...\n",
      "[nltk_data]    |   Package panlex_swadesh is already up-to-date!\n",
      "[nltk_data]    | Downloading package paradigms to /home/kai-\n",
      "[nltk_data]    |     yi/nltk_data...\n",
      "[nltk_data]    |   Package paradigms is already up-to-date!\n",
      "[nltk_data]    | Downloading package pe08 to /home/kai-yi/nltk_data...\n",
      "[nltk_data]    |   Package pe08 is already up-to-date!\n",
      "[nltk_data]    | Downloading package perluniprops to /home/kai-\n",
      "[nltk_data]    |     yi/nltk_data...\n",
      "[nltk_data]    |   Package perluniprops is already up-to-date!\n",
      "[nltk_data]    | Downloading package pil to /home/kai-yi/nltk_data...\n",
      "[nltk_data]    |   Package pil is already up-to-date!\n",
      "[nltk_data]    | Downloading package pl196x to /home/kai-\n",
      "[nltk_data]    |     yi/nltk_data...\n",
      "[nltk_data]    |   Package pl196x is already up-to-date!\n",
      "[nltk_data]    | Downloading package porter_test to /home/kai-\n",
      "[nltk_data]    |     yi/nltk_data...\n",
      "[nltk_data]    |   Package porter_test is already up-to-date!\n",
      "[nltk_data]    | Downloading package ppattach to /home/kai-\n",
      "[nltk_data]    |     yi/nltk_data...\n",
      "[nltk_data]    |   Package ppattach is already up-to-date!\n",
      "[nltk_data]    | Downloading package problem_reports to /home/kai-\n",
      "[nltk_data]    |     yi/nltk_data...\n",
      "[nltk_data]    |   Package problem_reports is already up-to-date!\n",
      "[nltk_data]    | Downloading package product_reviews_1 to /home/kai-\n",
      "[nltk_data]    |     yi/nltk_data...\n",
      "[nltk_data]    |   Package product_reviews_1 is already up-to-date!\n",
      "[nltk_data]    | Downloading package product_reviews_2 to /home/kai-\n",
      "[nltk_data]    |     yi/nltk_data...\n",
      "[nltk_data]    |   Package product_reviews_2 is already up-to-date!\n",
      "[nltk_data]    | Downloading package propbank to /home/kai-\n",
      "[nltk_data]    |     yi/nltk_data...\n",
      "[nltk_data]    |   Package propbank is already up-to-date!\n",
      "[nltk_data]    | Downloading package pros_cons to /home/kai-\n",
      "[nltk_data]    |     yi/nltk_data...\n",
      "[nltk_data]    |   Package pros_cons is already up-to-date!\n",
      "[nltk_data]    | Downloading package ptb to /home/kai-yi/nltk_data...\n",
      "[nltk_data]    |   Package ptb is already up-to-date!\n",
      "[nltk_data]    | Downloading package punkt to /home/kai-\n",
      "[nltk_data]    |     yi/nltk_data...\n",
      "[nltk_data]    |   Package punkt is already up-to-date!\n",
      "[nltk_data]    | Downloading package punkt_tab to /home/kai-\n",
      "[nltk_data]    |     yi/nltk_data...\n",
      "[nltk_data]    |   Package punkt_tab is already up-to-date!\n",
      "[nltk_data]    | Downloading package qc to /home/kai-yi/nltk_data...\n",
      "[nltk_data]    |   Package qc is already up-to-date!\n",
      "[nltk_data]    | Downloading package reuters to /home/kai-\n",
      "[nltk_data]    |     yi/nltk_data...\n",
      "[nltk_data]    |   Package reuters is already up-to-date!\n",
      "[nltk_data]    | Downloading package rslp to /home/kai-yi/nltk_data...\n",
      "[nltk_data]    |   Package rslp is already up-to-date!\n",
      "[nltk_data]    | Downloading package rte to /home/kai-yi/nltk_data...\n",
      "[nltk_data]    |   Package rte is already up-to-date!\n",
      "[nltk_data]    | Downloading package sample_grammars to /home/kai-\n",
      "[nltk_data]    |     yi/nltk_data...\n",
      "[nltk_data]    |   Package sample_grammars is already up-to-date!\n",
      "[nltk_data]    | Downloading package semcor to /home/kai-\n",
      "[nltk_data]    |     yi/nltk_data...\n",
      "[nltk_data]    |   Package semcor is already up-to-date!\n",
      "[nltk_data]    | Downloading package senseval to /home/kai-\n",
      "[nltk_data]    |     yi/nltk_data...\n",
      "[nltk_data]    |   Package senseval is already up-to-date!\n",
      "[nltk_data]    | Downloading package sentence_polarity to /home/kai-\n",
      "[nltk_data]    |     yi/nltk_data...\n",
      "[nltk_data]    |   Package sentence_polarity is already up-to-date!\n",
      "[nltk_data]    | Downloading package sentiwordnet to /home/kai-\n",
      "[nltk_data]    |     yi/nltk_data...\n",
      "[nltk_data]    |   Package sentiwordnet is already up-to-date!\n",
      "[nltk_data]    | Downloading package shakespeare to /home/kai-\n",
      "[nltk_data]    |     yi/nltk_data...\n",
      "[nltk_data]    |   Package shakespeare is already up-to-date!\n",
      "[nltk_data]    | Downloading package sinica_treebank to /home/kai-\n",
      "[nltk_data]    |     yi/nltk_data...\n",
      "[nltk_data]    |   Package sinica_treebank is already up-to-date!\n",
      "[nltk_data]    | Downloading package smultron to /home/kai-\n",
      "[nltk_data]    |     yi/nltk_data...\n",
      "[nltk_data]    |   Package smultron is already up-to-date!\n",
      "[nltk_data]    | Downloading package snowball_data to /home/kai-\n",
      "[nltk_data]    |     yi/nltk_data...\n",
      "[nltk_data]    |   Package snowball_data is already up-to-date!\n",
      "[nltk_data]    | Downloading package spanish_grammars to /home/kai-\n",
      "[nltk_data]    |     yi/nltk_data...\n",
      "[nltk_data]    |   Package spanish_grammars is already up-to-date!\n",
      "[nltk_data]    | Downloading package state_union to /home/kai-\n",
      "[nltk_data]    |     yi/nltk_data...\n",
      "[nltk_data]    |   Package state_union is already up-to-date!\n",
      "[nltk_data]    | Downloading package stopwords to /home/kai-\n",
      "[nltk_data]    |     yi/nltk_data...\n",
      "[nltk_data]    |   Package stopwords is already up-to-date!\n",
      "[nltk_data]    | Downloading package subjectivity to /home/kai-\n",
      "[nltk_data]    |     yi/nltk_data...\n",
      "[nltk_data]    |   Package subjectivity is already up-to-date!\n",
      "[nltk_data]    | Downloading package swadesh to /home/kai-\n",
      "[nltk_data]    |     yi/nltk_data...\n",
      "[nltk_data]    |   Package swadesh is already up-to-date!\n",
      "[nltk_data]    | Downloading package switchboard to /home/kai-\n",
      "[nltk_data]    |     yi/nltk_data...\n",
      "[nltk_data]    |   Package switchboard is already up-to-date!\n",
      "[nltk_data]    | Downloading package tagsets to /home/kai-\n",
      "[nltk_data]    |     yi/nltk_data...\n",
      "[nltk_data]    |   Package tagsets is already up-to-date!\n",
      "[nltk_data]    | Downloading package tagsets_json to /home/kai-\n",
      "[nltk_data]    |     yi/nltk_data...\n",
      "[nltk_data]    |   Package tagsets_json is already up-to-date!\n",
      "[nltk_data]    | Downloading package timit to /home/kai-\n",
      "[nltk_data]    |     yi/nltk_data...\n",
      "[nltk_data]    |   Package timit is already up-to-date!\n",
      "[nltk_data]    | Downloading package toolbox to /home/kai-\n",
      "[nltk_data]    |     yi/nltk_data...\n",
      "[nltk_data]    |   Package toolbox is already up-to-date!\n",
      "[nltk_data]    | Downloading package treebank to /home/kai-\n",
      "[nltk_data]    |     yi/nltk_data...\n",
      "[nltk_data]    |   Package treebank is already up-to-date!\n",
      "[nltk_data]    | Downloading package twitter_samples to /home/kai-\n",
      "[nltk_data]    |     yi/nltk_data...\n",
      "[nltk_data]    |   Package twitter_samples is already up-to-date!\n",
      "[nltk_data]    | Downloading package udhr to /home/kai-yi/nltk_data...\n",
      "[nltk_data]    |   Package udhr is already up-to-date!\n",
      "[nltk_data]    | Downloading package udhr2 to /home/kai-\n",
      "[nltk_data]    |     yi/nltk_data...\n",
      "[nltk_data]    |   Package udhr2 is already up-to-date!\n",
      "[nltk_data]    | Downloading package unicode_samples to /home/kai-\n",
      "[nltk_data]    |     yi/nltk_data...\n",
      "[nltk_data]    |   Package unicode_samples is already up-to-date!\n",
      "[nltk_data]    | Downloading package universal_tagset to /home/kai-\n",
      "[nltk_data]    |     yi/nltk_data...\n",
      "[nltk_data]    |   Package universal_tagset is already up-to-date!\n",
      "[nltk_data]    | Downloading package universal_treebanks_v20 to\n",
      "[nltk_data]    |     /home/kai-yi/nltk_data...\n",
      "[nltk_data]    |   Package universal_treebanks_v20 is already up-to-\n",
      "[nltk_data]    |       date!\n",
      "[nltk_data]    | Downloading package vader_lexicon to /home/kai-\n",
      "[nltk_data]    |     yi/nltk_data...\n",
      "[nltk_data]    |   Package vader_lexicon is already up-to-date!\n",
      "[nltk_data]    | Downloading package verbnet to /home/kai-\n",
      "[nltk_data]    |     yi/nltk_data...\n",
      "[nltk_data]    |   Package verbnet is already up-to-date!\n",
      "[nltk_data]    | Downloading package verbnet3 to /home/kai-\n",
      "[nltk_data]    |     yi/nltk_data...\n",
      "[nltk_data]    |   Package verbnet3 is already up-to-date!\n",
      "[nltk_data]    | Downloading package webtext to /home/kai-\n",
      "[nltk_data]    |     yi/nltk_data...\n",
      "[nltk_data]    |   Package webtext is already up-to-date!\n",
      "[nltk_data]    | Downloading package wmt15_eval to /home/kai-\n",
      "[nltk_data]    |     yi/nltk_data...\n",
      "[nltk_data]    |   Package wmt15_eval is already up-to-date!\n",
      "[nltk_data]    | Downloading package word2vec_sample to /home/kai-\n",
      "[nltk_data]    |     yi/nltk_data...\n",
      "[nltk_data]    |   Package word2vec_sample is already up-to-date!\n",
      "[nltk_data]    | Downloading package wordnet to /home/kai-\n",
      "[nltk_data]    |     yi/nltk_data...\n",
      "[nltk_data]    |   Package wordnet is already up-to-date!\n",
      "[nltk_data]    | Downloading package wordnet2021 to /home/kai-\n",
      "[nltk_data]    |     yi/nltk_data...\n",
      "[nltk_data]    |   Package wordnet2021 is already up-to-date!\n",
      "[nltk_data]    | Downloading package wordnet2022 to /home/kai-\n",
      "[nltk_data]    |     yi/nltk_data...\n",
      "[nltk_data]    |   Package wordnet2022 is already up-to-date!\n",
      "[nltk_data]    | Downloading package wordnet31 to /home/kai-\n",
      "[nltk_data]    |     yi/nltk_data...\n",
      "[nltk_data]    |   Package wordnet31 is already up-to-date!\n",
      "[nltk_data]    | Downloading package wordnet_ic to /home/kai-\n",
      "[nltk_data]    |     yi/nltk_data...\n",
      "[nltk_data]    |   Package wordnet_ic is already up-to-date!\n",
      "[nltk_data]    | Downloading package words to /home/kai-\n",
      "[nltk_data]    |     yi/nltk_data...\n",
      "[nltk_data]    |   Package words is already up-to-date!\n",
      "[nltk_data]    | Downloading package ycoe to /home/kai-yi/nltk_data...\n",
      "[nltk_data]    |   Package ycoe is already up-to-date!\n",
      "[nltk_data]    | \n",
      "[nltk_data]  Done downloading collection all\n"
     ]
    }
   ],
   "source": [
    "\n",
    "import nltk\n",
    "nltk.download(\"all\")\n",
    "import torch\n",
    "from datasets import load_dataset\n",
    "\n",
    "import numpy as np\n",
    "\n",
    "seed = 1234\n",
    "\n",
    "np.random.seed(seed)\n",
    "torch.manual_seed(seed)\n",
    "torch.cuda.manual_seed(seed)\n",
    "torch.backends.cudnn.deterministic = True"
   ]
  },
  {
   "cell_type": "code",
   "execution_count": 2,
   "metadata": {},
   "outputs": [],
   "source": [
    "dataset = load_dataset(\"rotten_tomatoes\")\n",
    "train_dataset = dataset[\"train\"]\n",
    "validation_dataset = dataset[\"validation\"]\n",
    "test_dataset = dataset[\"test\"]"
   ]
  },
  {
   "cell_type": "code",
   "execution_count": 3,
   "metadata": {},
   "outputs": [
    {
     "data": {
      "text/plain": [
       "'the rock is destined to be the 21st century\\'s new \" conan \" and that he\\'s going to make a splash even greater than arnold schwarzenegger , jean-claud van damme or steven segal .'"
      ]
     },
     "execution_count": 3,
     "metadata": {},
     "output_type": "execute_result"
    }
   ],
   "source": [
    "train_dataset[0]['text']"
   ]
  },
  {
   "cell_type": "markdown",
   "metadata": {},
   "source": [
    "# Tokenization and Stopword Removal"
   ]
  },
  {
   "cell_type": "code",
   "execution_count": 4,
   "metadata": {},
   "outputs": [],
   "source": [
    "from nltk.tokenize import word_tokenize\n",
    "\n",
    "def tokenize(text):\n",
    "    tokens = word_tokenize(text.lower())\n",
    "    tokens_l = []\n",
    "\n",
    "    for t in tokens:\n",
    "        if \"-\" in t:  # Split hyphenated words\n",
    "            parts = t.split('-')\n",
    "            tokens_l.extend(parts)\n",
    "        else:\n",
    "            tokens_l.append(t)\n",
    "\n",
    "    tokens_l = [word for word in tokens_l if word.isalnum()]\n",
    "\n",
    "    return tokens_l\n",
    "\n"
   ]
  },
  {
   "cell_type": "code",
   "execution_count": 5,
   "metadata": {},
   "outputs": [],
   "source": [
    "from nltk.corpus import stopwords\n",
    "\n",
    "def tokenize_removestops(text):\n",
    "    stop_words = set(stopwords.words('english'))\n",
    "    tokens_l = tokenize(text)\n",
    "    tokens_l = [w for w in tokens_l if w not in stop_words]\n",
    "    return tokens_l"
   ]
  },
  {
   "cell_type": "code",
   "execution_count": null,
   "metadata": {},
   "outputs": [],
   "source": []
  },
  {
   "cell_type": "code",
   "execution_count": 6,
   "metadata": {},
   "outputs": [
    {
     "name": "stdout",
     "output_type": "stream",
     "text": [
      "['the', 'rock', 'is', 'destined', 'to', 'be', 'the', '21st', 'century', 'new', 'conan', 'and', 'that', 'he', 'going', 'to', 'make', 'a', 'splash', 'even', 'greater', 'than', 'arnold', 'schwarzenegger', 'jean', 'claud', 'van', 'damme', 'or', 'steven', 'segal']\n",
      "['rock', 'destined', '21st', 'century', 'new', 'conan', 'going', 'make', 'splash', 'even', 'greater', 'arnold', 'schwarzenegger', 'jean', 'claud', 'van', 'damme', 'steven', 'segal']\n"
     ]
    }
   ],
   "source": [
    "print(tokenize(train_dataset[0]['text']))\n",
    "print(tokenize_removestops(train_dataset[0]['text']))"
   ]
  },
  {
   "cell_type": "markdown",
   "metadata": {},
   "source": [
    "# Load FastText Embedding Model"
   ]
  },
  {
   "cell_type": "markdown",
   "metadata": {},
   "source": [
    "Load pre-trained embeddings"
   ]
  },
  {
   "cell_type": "code",
   "execution_count": 7,
   "metadata": {},
   "outputs": [
    {
     "name": "stdout",
     "output_type": "stream",
     "text": [
      "[-0.01290765  0.00717291  0.00768317  0.03597531  0.01396745]\n",
      "(300,)\n"
     ]
    },
    {
     "name": "stderr",
     "output_type": "stream",
     "text": [
      "Warning : `load_model` does not return WordVectorModel or SupervisedModel any more, but a `FastText` object which is very similar.\n"
     ]
    }
   ],
   "source": [
    "import fasttext\n",
    "import fasttext.util\n",
    "\n",
    "# Load pre-trained FastText model (e.g., English)\n",
    "ft_model = fasttext.load_model('cc.en.300.bin')  \n",
    "\n",
    "# Get embedding for an OOV word (e.g., \"neuralnetworks\")\n",
    "oov_word = \"neuralnetworks\"\n",
    "embedding = ft_model.get_word_vector(oov_word)  # Works even if OOV!\n",
    "print(embedding[:5])  # First 5 dimensions\n",
    "print(embedding.shape)"
   ]
  },
  {
   "cell_type": "markdown",
   "metadata": {},
   "source": [
    "Generate embeddings for an entire sentence"
   ]
  },
  {
   "cell_type": "code",
   "execution_count": 8,
   "metadata": {},
   "outputs": [
    {
     "name": "stdout",
     "output_type": "stream",
     "text": [
      "the gorgeously elaborate continuation of \" the lord of the rings \" trilogy is so huge that a column of words cannot adequately describe co-writer/director peter jackson's expanded vision of j . r . r . tolkien's middle-earth .\n",
      "['gorgeously', 'elaborate', 'continuation', 'lord', 'rings', 'trilogy', 'huge', 'column', 'words', 'adequately', 'describe', 'co', 'peter', 'jackson', 'expanded', 'vision', 'j', 'r', 'r', 'tolkien', 'middle', 'earth']\n",
      "Embeddings shape: (22, 300)\n"
     ]
    }
   ],
   "source": [
    "def get_word_embeddings(sentence, model):\n",
    "    embeddings = []\n",
    "    tokens = tokenize_removestops(sentence)\n",
    "    for t in tokens:\n",
    "        embeddings.append(\n",
    "            torch.tensor(model.get_word_vector(t))\n",
    "        )\n",
    "    return embeddings\n",
    "\n",
    "# Get embeddings for the sentence\n",
    "sentence = train_dataset[1]['text']\n",
    "print(sentence)\n",
    "print(tokenize_removestops(sentence))\n",
    "sentence_embeddings = get_word_embeddings(sentence, ft_model)\n",
    "print(\"Embeddings shape:\", np.array(sentence_embeddings).shape) "
   ]
  },
  {
   "cell_type": "markdown",
   "metadata": {},
   "source": [
    "# Embed all sentences with padding "
   ]
  },
  {
   "cell_type": "code",
   "execution_count": 9,
   "metadata": {},
   "outputs": [],
   "source": [
    "import torch.nn.functional as F\n",
    "from torch.nn.utils.rnn import pad_sequence\n",
    "\n",
    "def embed_pad_sentences(sentences):\n",
    "    embedded_sentences = []\n",
    "    for s in sentences:\n",
    "        embedded_sentences.append(get_word_embeddings(s, ft_model))\n",
    "    \n",
    "    padded_embeddings = pad_sequence(\n",
    "            [torch.stack(emb) for emb in embedded_sentences],\n",
    "    batch_first=True,\n",
    "    padding_value=0.0\n",
    "    )\n",
    "\n",
    "    return padded_embeddings\n"
   ]
  },
  {
   "cell_type": "code",
   "execution_count": 10,
   "metadata": {},
   "outputs": [],
   "source": [
    "train_sentences = [sample['text'] for sample in train_dataset]\n",
    "val_sentences = [sample['text'] for sample in validation_dataset]\n",
    "test_sentences = [sample['text'] for sample in test_dataset]"
   ]
  },
  {
   "cell_type": "code",
   "execution_count": 11,
   "metadata": {},
   "outputs": [],
   "source": [
    "train_padded = embed_pad_sentences(train_sentences)\n",
    "val_padded = embed_pad_sentences(val_sentences)\n",
    "test_padded = embed_pad_sentences(test_sentences)"
   ]
  },
  {
   "cell_type": "code",
   "execution_count": 12,
   "metadata": {},
   "outputs": [
    {
     "name": "stdout",
     "output_type": "stream",
     "text": [
      "torch.Size([8530, 33, 300])\n",
      "torch.Size([1066, 38, 300])\n",
      "torch.Size([1066, 28, 300])\n"
     ]
    }
   ],
   "source": [
    "print(train_padded.shape) #[batch_size, max_len, 300]\n",
    "print(val_padded.shape)\n",
    "print(test_padded.shape)"
   ]
  },
  {
   "cell_type": "markdown",
   "metadata": {},
   "source": [
    "# Build the DataLoader"
   ]
  },
  {
   "cell_type": "code",
   "execution_count": 13,
   "metadata": {},
   "outputs": [],
   "source": [
    "train_labels = np.array([sample['label'] for sample in train_dataset])\n",
    "val_labels = np.array([sample['label'] for sample in validation_dataset])\n",
    "test_labels = np.array([sample['label'] for sample in test_dataset])\n",
    "\n",
    "train_labels = torch.tensor(train_labels, dtype=torch.float32)\n",
    "val_labels = torch.tensor(val_labels, dtype=torch.float32)\n",
    "test_labels = torch.tensor(test_labels, dtype=torch.float32)"
   ]
  },
  {
   "cell_type": "code",
   "execution_count": 14,
   "metadata": {},
   "outputs": [
    {
     "name": "stderr",
     "output_type": "stream",
     "text": [
      "/tmp/ipykernel_43263/2626484002.py:4: UserWarning: To copy construct from a tensor, it is recommended to use sourceTensor.clone().detach() or sourceTensor.clone().detach().requires_grad_(True), rather than torch.tensor(sourceTensor).\n",
      "  self.sentences = torch.tensor(sentences, dtype=torch.float32)\n"
     ]
    }
   ],
   "source": [
    "from torch.utils.data import Dataset, DataLoader\n",
    "class SentimentDataset(Dataset):\n",
    "    def __init__(self, sentences, labels):\n",
    "        self.sentences = torch.tensor(sentences, dtype=torch.float32)\n",
    "        self.labels = labels\n",
    "\n",
    "    def __len__(self):\n",
    "        return len(self.sentences)\n",
    "\n",
    "    def __getitem__(self, idx):\n",
    "        return self.sentences[idx], self.labels[idx]\n",
    "\n",
    "# Create DataLoader for mini-batch training\n",
    "train_dataset = SentimentDataset(train_padded, train_labels)\n",
    "val_dataset = SentimentDataset(val_padded, val_labels)\n",
    "test_dataset = SentimentDataset(test_padded, test_labels)\n",
    "\n",
    "batch_size = 128\n",
    "train_loader = DataLoader(train_dataset, batch_size=batch_size, shuffle=True)\n",
    "val_loader = DataLoader(val_dataset, batch_size=batch_size, shuffle=False)\n",
    "test_loader = DataLoader(test_dataset, batch_size=batch_size, shuffle=False)"
   ]
  },
  {
   "cell_type": "markdown",
   "metadata": {},
   "source": [
    "# Model"
   ]
  },
  {
   "cell_type": "code",
   "execution_count": 15,
   "metadata": {},
   "outputs": [
    {
     "name": "stderr",
     "output_type": "stream",
     "text": [
      "/home/kai-yi/anaconda3/envs/nlp/lib/python3.9/site-packages/torch/cuda/__init__.py:118: UserWarning: CUDA initialization: Unexpected error from cudaGetDeviceCount(). Did you run some cuda functions before calling NumCudaDevices() that might have already set an error? Error 804: forward compatibility was attempted on non supported HW (Triggered internally at ../c10/cuda/CUDAFunctions.cpp:108.)\n",
      "  return torch._C._cuda_getDeviceCount() > 0\n",
      "/home/kai-yi/anaconda3/envs/nlp/lib/python3.9/site-packages/torch/nn/modules/rnn.py:83: UserWarning: dropout option adds dropout after all but last recurrent layer, so non-zero dropout expects num_layers greater than 1, but got dropout=0.1 and num_layers=1\n",
      "  warnings.warn(\"dropout option adds dropout after all but last \"\n"
     ]
    }
   ],
   "source": [
    "class LSTMModel(torch.nn.Module):\n",
    "    def __init__(self, input_dim, hidden_dim, output_dim, num_layers=2, dropout=0.5, fc_dropout=0.5):\n",
    "        super().__init__()\n",
    "        self.num_layers=num_layers\n",
    "        self.lstm = torch.nn.LSTM(\n",
    "            input_size=input_dim,\n",
    "            hidden_size=hidden_dim,\n",
    "            dropout=0.1,\n",
    "            batch_first=True,\n",
    "            bidirectional=True  # Set to True for bidirectional LSTM\n",
    "        )\n",
    "        self.fc = torch.nn.Linear(hidden_dim * 2, hidden_dim)\n",
    "        self.relu1 = torch.nn.ReLU()\n",
    "        self.output_layer = torch.nn.Linear(hidden_dim, 1)\n",
    "        self.sigmoid = torch.nn.Sigmoid()\n",
    "        self.dropout1 = torch.nn.Dropout(dropout)\n",
    "        self.fc_dropout = torch.nn.Dropout(fc_dropout)\n",
    "        # self.layer_norm = torch.nn.LayerNorm(hidden_dim * 2)\n",
    "    \n",
    "    def forward(self, x):\n",
    "        _, (h_n, _) = self.lstm(x)\n",
    "\n",
    "        # h_n shape: [num_layers * num_directions, batch_size, hidden_dim]\n",
    "        # For bidirectional with 2 layers: [4, batch_size, hidden_dim]\n",
    "        # We want the last layer's forward and backward hidden states\n",
    "\n",
    "        forward_final = h_n[-2]  # last layer, forward direction\n",
    "        backward_final = h_n[-1] # last layer, backward direction\n",
    "\n",
    "        x = torch.cat((forward_final, backward_final), dim=1)  # shape: [batch_size, hidden_dim * 2]\n",
    "\n",
    "        # Now x has shape [batch_size, hidden_dim * 2] — matches self.fc input\n",
    "        out = self.fc(x)\n",
    "        out = self.relu1(out)\n",
    "        out = self.dropout1(out)\n",
    "        out = self.output_layer(out)\n",
    "        out = self.fc_dropout(out)\n",
    "\n",
    "        return self.sigmoid(out)\n",
    "\n",
    "        \n",
    "\n",
    "\n",
    "# Initialize model\n",
    "device = device = torch.device(\"cuda\" if torch.cuda.is_available() else \"cpu\")\n",
    "lstm_model = LSTMModel(input_dim=300, hidden_dim=128, output_dim=1).to(device)"
   ]
  },
  {
   "cell_type": "code",
   "execution_count": 16,
   "metadata": {},
   "outputs": [
    {
     "name": "stderr",
     "output_type": "stream",
     "text": [
      "/home/kai-yi/anaconda3/envs/nlp/lib/python3.9/site-packages/torch/cuda/__init__.py:619: UserWarning: Can't initialize NVML\n",
      "  warnings.warn(\"Can't initialize NVML\")\n"
     ]
    }
   ],
   "source": [
    "# Loss and optimizer\n",
    "criterion = torch.nn.BCELoss()\n",
    "optimizer = torch.optim.Adam(lstm_model.parameters(), lr=0.001)"
   ]
  },
  {
   "cell_type": "markdown",
   "metadata": {},
   "source": [
    "## Training"
   ]
  },
  {
   "cell_type": "code",
   "execution_count": 17,
   "metadata": {},
   "outputs": [],
   "source": [
    "from utils import validate_model, train_model"
   ]
  },
  {
   "cell_type": "code",
   "execution_count": 18,
   "metadata": {},
   "outputs": [
    {
     "name": "stdout",
     "output_type": "stream",
     "text": [
      "Epoch [1/50]\n",
      "Train Loss: 0.6754, Train Accuracy: 55.37%\n",
      "Validation Loss: 0.6085, Validation Accuracy: 68.01%\n",
      "Epoch [2/50]\n",
      "Train Loss: 0.6224, Train Accuracy: 60.94%\n",
      "Validation Loss: 0.5614, Validation Accuracy: 74.67%\n",
      "Epoch [3/50]\n",
      "Train Loss: 0.6026, Train Accuracy: 63.17%\n",
      "Validation Loss: 0.5335, Validation Accuracy: 74.67%\n",
      "Epoch [4/50]\n",
      "Train Loss: 0.5993, Train Accuracy: 62.39%\n",
      "Validation Loss: 0.5245, Validation Accuracy: 76.27%\n",
      "Epoch [5/50]\n",
      "Train Loss: 0.5917, Train Accuracy: 63.70%\n",
      "Validation Loss: 0.5199, Validation Accuracy: 77.49%\n",
      "Epoch [6/50]\n",
      "Train Loss: 0.5931, Train Accuracy: 63.26%\n",
      "Validation Loss: 0.5273, Validation Accuracy: 76.92%\n",
      "Epoch [7/50]\n",
      "Train Loss: 0.5852, Train Accuracy: 63.32%\n",
      "Validation Loss: 0.5051, Validation Accuracy: 76.83%\n",
      "Epoch [8/50]\n",
      "Train Loss: 0.5776, Train Accuracy: 63.99%\n",
      "Validation Loss: 0.5077, Validation Accuracy: 78.80%\n",
      "Epoch [9/50]\n",
      "Train Loss: 0.5772, Train Accuracy: 64.09%\n",
      "Validation Loss: 0.5029, Validation Accuracy: 78.42%\n",
      "Epoch [10/50]\n",
      "Train Loss: 0.5727, Train Accuracy: 63.89%\n",
      "Validation Loss: 0.4998, Validation Accuracy: 77.20%\n",
      "Epoch [11/50]\n",
      "Train Loss: 0.5715, Train Accuracy: 64.88%\n",
      "Validation Loss: 0.4933, Validation Accuracy: 78.52%\n",
      "Epoch [12/50]\n",
      "Train Loss: 0.5650, Train Accuracy: 65.17%\n",
      "Validation Loss: 0.5008, Validation Accuracy: 77.49%\n",
      "Epoch [13/50]\n",
      "Train Loss: 0.5586, Train Accuracy: 64.82%\n",
      "Validation Loss: 0.4935, Validation Accuracy: 78.05%\n",
      "Epoch [14/50]\n",
      "Train Loss: 0.5569, Train Accuracy: 64.91%\n",
      "Validation Loss: 0.5067, Validation Accuracy: 77.67%\n",
      "Epoch [15/50]\n",
      "Train Loss: 0.5520, Train Accuracy: 65.77%\n",
      "Validation Loss: 0.4883, Validation Accuracy: 77.77%\n",
      "Epoch [16/50]\n",
      "Train Loss: 0.5454, Train Accuracy: 66.00%\n",
      "Validation Loss: 0.4923, Validation Accuracy: 77.67%\n",
      "Epoch [17/50]\n",
      "Train Loss: 0.5545, Train Accuracy: 65.29%\n",
      "Validation Loss: 0.4886, Validation Accuracy: 77.49%\n",
      "Epoch [18/50]\n",
      "Train Loss: 0.5372, Train Accuracy: 65.62%\n",
      "Validation Loss: 0.4896, Validation Accuracy: 77.49%\n",
      "Epoch [19/50]\n",
      "Train Loss: 0.5270, Train Accuracy: 66.86%\n",
      "Validation Loss: 0.4899, Validation Accuracy: 77.02%\n",
      "Epoch [20/50]\n",
      "Train Loss: 0.5231, Train Accuracy: 67.60%\n",
      "Validation Loss: 0.4959, Validation Accuracy: 76.92%\n",
      "Early stopping triggered!\n"
     ]
    }
   ],
   "source": [
    "train_losses, val_losses, train_accuracies, val_accuracies = train_model(\n",
    "            lstm_model, train_loader, val_loader, criterion, optimizer, num_epochs=50, patience=5)"
   ]
  },
  {
   "cell_type": "code",
   "execution_count": 19,
   "metadata": {},
   "outputs": [
    {
     "data": {
      "image/png": "[encoded data removed]",
      "text/plain": [
       "<Figure size 1200x500 with 2 Axes>"
      ]
     },
     "metadata": {},
     "output_type": "display_data"
    }
   ],
   "source": [
    "# Plot the results\n",
    "import matplotlib.pyplot as plt\n",
    "\n",
    "epochs = range(1, len(train_losses) + 1)\n",
    "\n",
    "plt.figure(figsize=(12, 5))\n",
    "\n",
    "# Plotting the training and validation loss\n",
    "plt.subplot(1, 2, 1)\n",
    "plt.plot(epochs, train_losses, 'b', label='Training Loss')\n",
    "plt.plot(epochs, val_losses, 'r', label='Validation Loss')\n",
    "plt.title('Training and Validation Loss')\n",
    "plt.xlabel('Epochs')\n",
    "plt.ylabel('Loss')\n",
    "plt.legend()\n",
    "\n",
    "# Plotting the training and validation accuracy\n",
    "plt.subplot(1, 2, 2)\n",
    "plt.plot(epochs, train_accuracies, 'b', label='Training Accuracy')\n",
    "plt.plot(epochs, val_accuracies, 'r', label='Validation Accuracy')\n",
    "plt.title('Training and Validation Accuracy (With Early Stopping)')\n",
    "plt.xlabel('Epochs')\n",
    "plt.ylabel('Accuracy')\n",
    "plt.legend()\n",
    "plt.tight_layout()\n",
    "plt.show()"
   ]
  },
  {
   "cell_type": "code",
   "execution_count": null,
   "metadata": {},
   "outputs": [],
   "source": []
  }
 ],
 "metadata": {
  "kernelspec": {
   "display_name": "nlp",
   "language": "python",
   "name": "python3"
  },
  "language_info": {
   "codemirror_mode": {
    "name": "ipython",
    "version": 3
   },
   "file_extension": ".py",
   "mimetype": "text/x-python",
   "name": "python",
   "nbconvert_exporter": "python",
   "pygments_lexer": "ipython3",
   "version": "3.9.19"
  }
 },
 "nbformat": 4,
 "nbformat_minor": 2
}
